{
 "cells": [
  {
   "cell_type": "code",
   "execution_count": null,
   "id": "78f7d9f0-4cdf-4c22-99cf-4f1aff00cefa",
   "metadata": {},
   "outputs": [],
   "source": [
    "EXPERIMENT 3"
   ]
  },
  {
   "cell_type": "markdown",
   "id": "827a4b5f-ba2b-4e9c-b824-8de61a4924a7",
   "metadata": {},
   "source": [
    "Aim:\n",
    "To understand and apply linear regression to model and predict relationships between a dependent variable and one or more independent variables."
   ]
  },
  {
   "cell_type": "markdown",
   "id": "5dffa9bf-aa92-4479-8aa5-e67e03e03330",
   "metadata": {},
   "source": [
    "Objectives:\n",
    "1. to understand the information of data\n",
    "2. split the dataset in X and Y\n",
    "3. split the dataset into training and testing set\n",
    "4. perform linear regression(mse)\n",
    "5. perform logistic regression and calculate the model accuracy"
   ]
  },
  {
   "cell_type": "code",
   "execution_count": 1,
   "id": "defee2de-ffe9-45ee-94cf-990445ba8e49",
   "metadata": {},
   "outputs": [],
   "source": [
    "import pandas as pd\n",
    "import numpy as np"
   ]
  },
  {
   "cell_type": "code",
   "execution_count": 2,
   "id": "d5472217-63cc-4da6-bcae-618023f86122",
   "metadata": {},
   "outputs": [
    {
     "data": {
      "text/html": [
       "<div>\n",
       "<style scoped>\n",
       "    .dataframe tbody tr th:only-of-type {\n",
       "        vertical-align: middle;\n",
       "    }\n",
       "\n",
       "    .dataframe tbody tr th {\n",
       "        vertical-align: top;\n",
       "    }\n",
       "\n",
       "    .dataframe thead th {\n",
       "        text-align: right;\n",
       "    }\n",
       "</style>\n",
       "<table border=\"1\" class=\"dataframe\">\n",
       "  <thead>\n",
       "    <tr style=\"text-align: right;\">\n",
       "      <th></th>\n",
       "      <th>Unnamed: 0</th>\n",
       "      <th>TV</th>\n",
       "      <th>radio</th>\n",
       "      <th>newspaper</th>\n",
       "      <th>sales</th>\n",
       "    </tr>\n",
       "  </thead>\n",
       "  <tbody>\n",
       "    <tr>\n",
       "      <th>0</th>\n",
       "      <td>1</td>\n",
       "      <td>230.1</td>\n",
       "      <td>37.8</td>\n",
       "      <td>69.2</td>\n",
       "      <td>22.1</td>\n",
       "    </tr>\n",
       "    <tr>\n",
       "      <th>1</th>\n",
       "      <td>2</td>\n",
       "      <td>44.5</td>\n",
       "      <td>39.3</td>\n",
       "      <td>45.1</td>\n",
       "      <td>10.4</td>\n",
       "    </tr>\n",
       "    <tr>\n",
       "      <th>2</th>\n",
       "      <td>3</td>\n",
       "      <td>17.2</td>\n",
       "      <td>45.9</td>\n",
       "      <td>69.3</td>\n",
       "      <td>9.3</td>\n",
       "    </tr>\n",
       "    <tr>\n",
       "      <th>3</th>\n",
       "      <td>4</td>\n",
       "      <td>151.5</td>\n",
       "      <td>41.3</td>\n",
       "      <td>58.5</td>\n",
       "      <td>18.5</td>\n",
       "    </tr>\n",
       "    <tr>\n",
       "      <th>4</th>\n",
       "      <td>5</td>\n",
       "      <td>180.8</td>\n",
       "      <td>10.8</td>\n",
       "      <td>58.4</td>\n",
       "      <td>12.9</td>\n",
       "    </tr>\n",
       "    <tr>\n",
       "      <th>...</th>\n",
       "      <td>...</td>\n",
       "      <td>...</td>\n",
       "      <td>...</td>\n",
       "      <td>...</td>\n",
       "      <td>...</td>\n",
       "    </tr>\n",
       "    <tr>\n",
       "      <th>195</th>\n",
       "      <td>196</td>\n",
       "      <td>38.2</td>\n",
       "      <td>3.7</td>\n",
       "      <td>13.8</td>\n",
       "      <td>7.6</td>\n",
       "    </tr>\n",
       "    <tr>\n",
       "      <th>196</th>\n",
       "      <td>197</td>\n",
       "      <td>94.2</td>\n",
       "      <td>4.9</td>\n",
       "      <td>8.1</td>\n",
       "      <td>9.7</td>\n",
       "    </tr>\n",
       "    <tr>\n",
       "      <th>197</th>\n",
       "      <td>198</td>\n",
       "      <td>177.0</td>\n",
       "      <td>9.3</td>\n",
       "      <td>6.4</td>\n",
       "      <td>12.8</td>\n",
       "    </tr>\n",
       "    <tr>\n",
       "      <th>198</th>\n",
       "      <td>199</td>\n",
       "      <td>283.6</td>\n",
       "      <td>42.0</td>\n",
       "      <td>66.2</td>\n",
       "      <td>25.5</td>\n",
       "    </tr>\n",
       "    <tr>\n",
       "      <th>199</th>\n",
       "      <td>200</td>\n",
       "      <td>232.1</td>\n",
       "      <td>8.6</td>\n",
       "      <td>8.7</td>\n",
       "      <td>13.4</td>\n",
       "    </tr>\n",
       "  </tbody>\n",
       "</table>\n",
       "<p>200 rows × 5 columns</p>\n",
       "</div>"
      ],
      "text/plain": [
       "     Unnamed: 0     TV  radio  newspaper  sales\n",
       "0             1  230.1   37.8       69.2   22.1\n",
       "1             2   44.5   39.3       45.1   10.4\n",
       "2             3   17.2   45.9       69.3    9.3\n",
       "3             4  151.5   41.3       58.5   18.5\n",
       "4             5  180.8   10.8       58.4   12.9\n",
       "..          ...    ...    ...        ...    ...\n",
       "195         196   38.2    3.7       13.8    7.6\n",
       "196         197   94.2    4.9        8.1    9.7\n",
       "197         198  177.0    9.3        6.4   12.8\n",
       "198         199  283.6   42.0       66.2   25.5\n",
       "199         200  232.1    8.6        8.7   13.4\n",
       "\n",
       "[200 rows x 5 columns]"
      ]
     },
     "execution_count": 2,
     "metadata": {},
     "output_type": "execute_result"
    }
   ],
   "source": [
    "df= pd.read_csv(r\"C:\\Users\\dell\\Downloads\\Advertising.csv\")\n",
    "df"
   ]
  },
  {
   "cell_type": "code",
   "execution_count": 3,
   "id": "8922fdb2-a2ef-42ef-b481-58fd5ed838a5",
   "metadata": {},
   "outputs": [
    {
     "data": {
      "text/plain": [
       "<bound method DataFrame.info of      Unnamed: 0     TV  radio  newspaper  sales\n",
       "0             1  230.1   37.8       69.2   22.1\n",
       "1             2   44.5   39.3       45.1   10.4\n",
       "2             3   17.2   45.9       69.3    9.3\n",
       "3             4  151.5   41.3       58.5   18.5\n",
       "4             5  180.8   10.8       58.4   12.9\n",
       "..          ...    ...    ...        ...    ...\n",
       "195         196   38.2    3.7       13.8    7.6\n",
       "196         197   94.2    4.9        8.1    9.7\n",
       "197         198  177.0    9.3        6.4   12.8\n",
       "198         199  283.6   42.0       66.2   25.5\n",
       "199         200  232.1    8.6        8.7   13.4\n",
       "\n",
       "[200 rows x 5 columns]>"
      ]
     },
     "execution_count": 3,
     "metadata": {},
     "output_type": "execute_result"
    }
   ],
   "source": [
    "df.info"
   ]
  },
  {
   "cell_type": "code",
   "execution_count": 4,
   "id": "589f4e09-b5d2-43bb-9733-1315717d7362",
   "metadata": {},
   "outputs": [
    {
     "data": {
      "text/plain": [
       "<bound method NDFrame.describe of      Unnamed: 0     TV  radio  newspaper  sales\n",
       "0             1  230.1   37.8       69.2   22.1\n",
       "1             2   44.5   39.3       45.1   10.4\n",
       "2             3   17.2   45.9       69.3    9.3\n",
       "3             4  151.5   41.3       58.5   18.5\n",
       "4             5  180.8   10.8       58.4   12.9\n",
       "..          ...    ...    ...        ...    ...\n",
       "195         196   38.2    3.7       13.8    7.6\n",
       "196         197   94.2    4.9        8.1    9.7\n",
       "197         198  177.0    9.3        6.4   12.8\n",
       "198         199  283.6   42.0       66.2   25.5\n",
       "199         200  232.1    8.6        8.7   13.4\n",
       "\n",
       "[200 rows x 5 columns]>"
      ]
     },
     "execution_count": 4,
     "metadata": {},
     "output_type": "execute_result"
    }
   ],
   "source": [
    "df.describe"
   ]
  },
  {
   "cell_type": "code",
   "execution_count": 5,
   "id": "fb608963-5fee-4814-943b-f1661c70b517",
   "metadata": {},
   "outputs": [],
   "source": [
    "#splitting the dataset\n",
    "\n",
    "x= df.iloc[:,1:-1].values #index location considering the entire row and column except the last one\n",
    "y= df.iloc[:,-1].values #index location considering entire row and only last column"
   ]
  },
  {
   "cell_type": "code",
   "execution_count": 6,
   "id": "28bcf5ca-ba27-42a2-aff6-90d01d4fe5a9",
   "metadata": {},
   "outputs": [],
   "source": [
    "#step 3: splitting the dataset into the training anf test set\n",
    "\n",
    "from sklearn.model_selection import train_test_split\n",
    "X_train, X_test, y_train, y_test = train_test_split( x,y , random_state=0,test_size=0.2)"
   ]
  },
  {
   "cell_type": "code",
   "execution_count": 7,
   "id": "54983707-198a-4cb7-824d-962036f5c8ba",
   "metadata": {},
   "outputs": [
    {
     "name": "stdout",
     "output_type": "stream",
     "text": [
      "linear regression mean sqaured eorror(mse): 4.402118291449686\n"
     ]
    }
   ],
   "source": [
    "#step 4: applying linear regression\n",
    "\n",
    "from sklearn.linear_model import LinearRegression\n",
    "from sklearn.metrics import mean_squared_error\n",
    "\n",
    "linear_model = LinearRegression()\n",
    "linear_model.fit(X_train, y_train)\n",
    "\n",
    "#predicting the test set results for linear regression\n",
    "y_pred_linear = linear_model.predict(X_test)\n",
    "\n",
    "#calculate the mean squared error for linear regression\n",
    "mse_linear = mean_squared_error(y_test, y_pred_linear)\n",
    "print(f\"linear regression mean sqaured eorror(mse): {mse_linear}\")"
   ]
  },
  {
   "cell_type": "code",
   "execution_count": 8,
   "id": "8f34d569-fe1f-4b1e-a349-79f0bbf16c2a",
   "metadata": {},
   "outputs": [
    {
     "name": "stdout",
     "output_type": "stream",
     "text": [
      "logistic regression acciracy: 97.5%\n"
     ]
    }
   ],
   "source": [
    "# convert sales to binary target for logistic regression( sales > median as high sales)\n",
    "from sklearn.linear_model import LogisticRegression\n",
    "from sklearn.metrics import accuracy_score\n",
    "\n",
    "median_sales = np.median(y)\n",
    "y_binary = (y>median_sales).astype(int) #1 if sales> median, 0 otherwise\n",
    "\n",
    "#step 3: repeat splitting \n",
    "X_train_log, X_test_log, y_train_log, y_test_log = train_test_split( x,y_binary , random_state=0,test_size=0.2)\n",
    "\n",
    "#step 4: repeat applying logistic regression\n",
    "logistic_model= LogisticRegression()\n",
    "logistic_model.fit(X_train_log, y_train_log)\n",
    "\n",
    "# predicting \n",
    "y_pred_logistic= logistic_model.predict(X_test_log)\n",
    "#calculate accuracy for logistic regresiion\n",
    "accuracy_logistic = accuracy_score(y_test_log, y_pred_logistic)\n",
    "print(f\"logistic regression acciracy: {accuracy_logistic * 100}%\")"
   ]
  },
  {
   "cell_type": "markdown",
   "id": "29c0647e-6ac9-45bf-9db6-f42828077c51",
   "metadata": {},
   "source": [
    "Conclusion from the results\r\n",
    "\r\n",
    "Linear Regression:\r\n",
    "The Mean Squared Error (MSE) for linear regression indicates how far the predicted sales values are from the actual sales values, on average. A lower MSE value means that the linear regression model is predicting sales values that are close to the actual values. However, MSE alone doesn’t tell us how well the model fits; it just provides an average error. If MSE is significantly high, the model might not be performing well for predicting continuous sales.\r\n",
    "\r\n",
    "Logistic Regression:\r\n",
    "In the logistic regression model, sales were converted into binary categories (high sales or low sales based on the median). The accuracy score for logistic regression shows the percentage of correct classifications (high vs. low sales). A higher accuracy value means that the logistic regression model is correctly classifying the sales values as high or low most of the time. If the accuracy is around 95% or higher, the model is performing well for binary classification."
   ]
  }
 ],
 "metadata": {
  "kernelspec": {
   "display_name": "Python 3 (ipykernel)",
   "language": "python",
   "name": "python3"
  },
  "language_info": {
   "codemirror_mode": {
    "name": "ipython",
    "version": 3
   },
   "file_extension": ".py",
   "mimetype": "text/x-python",
   "name": "python",
   "nbconvert_exporter": "python",
   "pygments_lexer": "ipython3",
   "version": "3.12.4"
  }
 },
 "nbformat": 4,
 "nbformat_minor": 5
}
