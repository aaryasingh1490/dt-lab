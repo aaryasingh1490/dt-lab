{
 "cells": [
  {
   "cell_type": "markdown",
   "id": "4c233165-a6a1-47e8-8ee4-ebdcd55109a1",
   "metadata": {},
   "source": [
    "EXPERIMENT 1"
   ]
  },
  {
   "cell_type": "markdown",
   "id": "cc24df1d-1a7b-4eaa-9320-640f707edd92",
   "metadata": {},
   "source": [
    "Aim:\n",
    "To understand and apply basic array and matrix operations in Python, focusing on foundational functions for manipulating numerical data."
   ]
  },
  {
   "cell_type": "markdown",
   "id": "e9eac395-c8c0-4968-87f6-a595cd959ab8",
   "metadata": {},
   "source": [
    "Objectives:\n",
    "\n",
    "1. Familiarize with core array and matrix functions in Python using NumPy, such as add, dot, cross, and others.\n",
    "2. Perform element-wise operations, matrix transformations, and vector manipulations to understand data structure handling.\n",
    "3. Explore functions that enable reshaping, transposing, and combining arrays and matrices.\n",
    "4. Build proficiency in foundational operations as a basis for further applications in data processing and analysis."
   ]
  },
  {
   "cell_type": "code",
   "execution_count": 1,
   "id": "806eda7e-bcb2-458a-aaf5-96e7384a2d3d",
   "metadata": {},
   "outputs": [],
   "source": [
    "import numpy as np\n",
    "from math import *"
   ]
  },
  {
   "cell_type": "code",
   "execution_count": 2,
   "id": "2643a484-b33f-4a88-b7f8-c5fc6c613a40",
   "metadata": {},
   "outputs": [
    {
     "data": {
      "text/plain": [
       "array([2, 4, 6, 8])"
      ]
     },
     "execution_count": 2,
     "metadata": {},
     "output_type": "execute_result"
    }
   ],
   "source": [
    "arr_id=np.array([2,4,6,8])\n",
    "arr_id"
   ]
  },
  {
   "cell_type": "code",
   "execution_count": 3,
   "id": "d80163d1-8b04-465e-ad3f-b28bc060acf2",
   "metadata": {},
   "outputs": [
    {
     "data": {
      "text/plain": [
       "20"
      ]
     },
     "execution_count": 3,
     "metadata": {},
     "output_type": "execute_result"
    }
   ],
   "source": [
    "sum= np.sum(arr_id)\n",
    "sum"
   ]
  },
  {
   "cell_type": "code",
   "execution_count": 4,
   "id": "9bef356b-7404-4023-8d7e-948bc1cf0257",
   "metadata": {},
   "outputs": [
    {
     "data": {
      "text/plain": [
       "5.0"
      ]
     },
     "execution_count": 4,
     "metadata": {},
     "output_type": "execute_result"
    }
   ],
   "source": [
    "mean=np.mean(arr_id)\n",
    "mean"
   ]
  },
  {
   "cell_type": "code",
   "execution_count": 5,
   "id": "ccb7a627-875f-40c4-a320-53af231aeaf1",
   "metadata": {},
   "outputs": [
    {
     "data": {
      "text/plain": [
       "array([12, 14, 16, 18])"
      ]
     },
     "execution_count": 5,
     "metadata": {},
     "output_type": "execute_result"
    }
   ],
   "source": [
    "EWA=np.add(arr_id,10)\n",
    "EWA"
   ]
  },
  {
   "cell_type": "code",
   "execution_count": 6,
   "id": "0ff7887f-0adf-46e2-8f5a-82557808be06",
   "metadata": {},
   "outputs": [
    {
     "data": {
      "text/plain": [
       "array([[1, 2, 3, 4],\n",
       "       [5, 6, 7, 8]])"
      ]
     },
     "execution_count": 6,
     "metadata": {},
     "output_type": "execute_result"
    }
   ],
   "source": [
    "arr_2d = np.array([[1,2,3,4],[5,6,7,8]])\n",
    "arr_2d"
   ]
  },
  {
   "cell_type": "code",
   "execution_count": 7,
   "id": "63b1afc2-1cf5-4903-9c7c-9077bef22ac4",
   "metadata": {},
   "outputs": [
    {
     "data": {
      "text/plain": [
       "array([[1, 2, 3, 4],\n",
       "       [5, 6, 7, 8]])"
      ]
     },
     "execution_count": 7,
     "metadata": {},
     "output_type": "execute_result"
    }
   ],
   "source": [
    "A= arr_2d\n",
    "A"
   ]
  },
  {
   "cell_type": "code",
   "execution_count": 8,
   "id": "3ed2348b-f62a-4fcc-8759-6f5c76327558",
   "metadata": {},
   "outputs": [
    {
     "data": {
      "text/plain": [
       "array([[1, 5],\n",
       "       [2, 6],\n",
       "       [3, 7],\n",
       "       [4, 8]])"
      ]
     },
     "execution_count": 8,
     "metadata": {},
     "output_type": "execute_result"
    }
   ],
   "source": [
    "AT= np.transpose(A)\n",
    "AT"
   ]
  },
  {
   "cell_type": "code",
   "execution_count": 9,
   "id": "e26d3207-c818-4fe3-a740-4b0efe5737e2",
   "metadata": {},
   "outputs": [
    {
     "data": {
      "text/plain": [
       "array([[ 2,  4,  6,  8],\n",
       "       [10, 12, 14, 16]])"
      ]
     },
     "execution_count": 9,
     "metadata": {},
     "output_type": "execute_result"
    }
   ],
   "source": [
    "ADD= np.add(A,A)\n",
    "ADD"
   ]
  },
  {
   "cell_type": "code",
   "execution_count": 10,
   "id": "35edd699-36b1-41ee-90be-1706d03d86af",
   "metadata": {},
   "outputs": [
    {
     "ename": "ValueError",
     "evalue": "operands could not be broadcast together with shapes (2,4) (4,2) ",
     "output_type": "error",
     "traceback": [
      "\u001b[1;31m---------------------------------------------------------------------------\u001b[0m",
      "\u001b[1;31mValueError\u001b[0m                                Traceback (most recent call last)",
      "Cell \u001b[1;32mIn[10], line 1\u001b[0m\n\u001b[1;32m----> 1\u001b[0m ADDT\u001b[38;5;241m=\u001b[39mnp\u001b[38;5;241m.\u001b[39madd(A,AT)\n\u001b[0;32m      2\u001b[0m ADDT\n",
      "\u001b[1;31mValueError\u001b[0m: operands could not be broadcast together with shapes (2,4) (4,2) "
     ]
    }
   ],
   "source": [
    "ADDT=np.add(A,AT)\n",
    "ADDT"
   ]
  },
  {
   "cell_type": "code",
   "execution_count": 11,
   "id": "b72972bd-137a-4145-8b30-ceb089aa6a3b",
   "metadata": {},
   "outputs": [
    {
     "data": {
      "text/plain": [
       "array([[ 30,  70],\n",
       "       [ 70, 174]])"
      ]
     },
     "execution_count": 11,
     "metadata": {},
     "output_type": "execute_result"
    }
   ],
   "source": [
    "mul=np.dot(A,AT)\n",
    "mul"
   ]
  },
  {
   "cell_type": "code",
   "execution_count": 12,
   "id": "121a937a-78ec-4c91-9527-74c8ba135495",
   "metadata": {},
   "outputs": [
    {
     "ename": "ValueError",
     "evalue": "shapes (2,4) and (2,4) not aligned: 4 (dim 1) != 2 (dim 0)",
     "output_type": "error",
     "traceback": [
      "\u001b[1;31m---------------------------------------------------------------------------\u001b[0m",
      "\u001b[1;31mValueError\u001b[0m                                Traceback (most recent call last)",
      "Cell \u001b[1;32mIn[12], line 1\u001b[0m\n\u001b[1;32m----> 1\u001b[0m mul2\u001b[38;5;241m=\u001b[39mnp\u001b[38;5;241m.\u001b[39mdot(A,A)\n\u001b[0;32m      2\u001b[0m mul2\n",
      "\u001b[1;31mValueError\u001b[0m: shapes (2,4) and (2,4) not aligned: 4 (dim 1) != 2 (dim 0)"
     ]
    }
   ],
   "source": [
    "mul2=np.dot(A,A)\n",
    "mul2"
   ]
  },
  {
   "cell_type": "code",
   "execution_count": null,
   "id": "3b1af963-c509-460a-90b0-5a5698eea0c9",
   "metadata": {},
   "outputs": [],
   "source": []
  }
 ],
 "metadata": {
  "kernelspec": {
   "display_name": "Python 3 (ipykernel)",
   "language": "python",
   "name": "python3"
  },
  "language_info": {
   "codemirror_mode": {
    "name": "ipython",
    "version": 3
   },
   "file_extension": ".py",
   "mimetype": "text/x-python",
   "name": "python",
   "nbconvert_exporter": "python",
   "pygments_lexer": "ipython3",
   "version": "3.12.4"
  }
 },
 "nbformat": 4,
 "nbformat_minor": 5
}
