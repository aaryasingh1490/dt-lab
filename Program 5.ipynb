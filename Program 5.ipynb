{
 "cells": [
  {
   "cell_type": "code",
   "execution_count": 86,
   "id": "43534f03-6440-41f3-98c6-b5ca9775173c",
   "metadata": {},
   "outputs": [],
   "source": [
    "# Import necessary libraries\n",
    "import pandas as pd\n",
    "import re\n",
    "import matplotlib.pyplot as plt\n",
    "from collections import Counter\n",
    "from textblob import TextBlob"
   ]
  },
  {
   "cell_type": "markdown",
   "id": "f8ed2866-137b-4070-9ece-58509ac39ff8",
   "metadata": {},
   "source": [
    "re - Regular expression operations \n",
    "This module provides regular expression matching operations. The re module is versatile and very useful for text processing tasks, enabling you to quickly identify and manipulate patterns in text."
   ]
  },
  {
   "cell_type": "markdown",
   "id": "34dbdbff-fb84-4ef0-a476-ca53274b6908",
   "metadata": {},
   "source": [
    "Counter from collections - \n",
    "Counter is a subclass of dict in the collections module. It is used to count the frequency of elements in an iterable, like a list or a string, and returns a dictionary-like object where keys are elements and values are their counts."
   ]
  },
  {
   "cell_type": "markdown",
   "id": "8ec1349c-c4f3-42f4-8a82-810da7e9016b",
   "metadata": {},
   "source": [
    "TextBlob is an external Python library for processing textual data. It provides a simple API for performing common natural language processing (NLP) tasks"
   ]
  },
  {
   "cell_type": "code",
   "execution_count": 88,
   "id": "3dda3d8a-27a0-4bed-98fc-1f1878f45ed9",
   "metadata": {},
   "outputs": [],
   "source": [
    "# Load the data\n",
    "data = {\n",
    "    'Review_ID': [201, 202, 203, 204, 205, 206],\n",
    "    'Customer_Review': [\n",
    "        \"!!!ThIs PrOdUct Is A-ma-zing!! Really gooood QUALITY!! :):):)\",\n",
    "        \"Not wOrth the $$$! Too much hype... Didn't last long :( :( \",\n",
    "        \"    Perfect!!! Couldn't ask for BETTER!   :)\",\n",
    "        \"Just o.k., nothing special.  Over-Priced for sureee!!!\",\n",
    "        \"Th!s item???? Is very disappointing. poor #quality!!\",\n",
    "        \"ABSOLUTELY **LOVE** IT!!! Even better than expected...!!!    \"\n",
    "    ]\n",
    "}"
   ]
  },
  {
   "cell_type": "code",
   "execution_count": 90,
   "id": "49f304f7-b00e-455c-96e7-2cb01d676cd3",
   "metadata": {},
   "outputs": [],
   "source": [
    "# Step 1: Load data into a DataFrame\n",
    "df = pd.DataFrame(data)"
   ]
  },
  {
   "cell_type": "code",
   "execution_count": null,
   "id": "64db365b-f881-479a-b6be-0439a837f94c",
   "metadata": {},
   "outputs": [],
   "source": [
    "print(\"Original DataFrame:\\n\")\n",
    "df"
   ]
  },
  {
   "cell_type": "code",
   "execution_count": null,
   "id": "0049a9ca-0af9-41da-b7d6-020dc320526d",
   "metadata": {},
   "outputs": [],
   "source": [
    "# Step 2: Lowercase conversion\n",
    "df['Cleaned_Review'] = df['Customer_Review'].str.lower()\n",
    "print(\"After Lowercase Conversion:\\n\")\n",
    "print(df[['Review_ID', 'Cleaned_Review']])"
   ]
  },
  {
   "cell_type": "code",
   "execution_count": null,
   "id": "d95f59f1-e72f-438d-8078-922ce6014ebc",
   "metadata": {},
   "outputs": [],
   "source": [
    "# Step 3: Remove leading and trailing whitespace\n",
    "df['Cleaned_Review'] = df['Cleaned_Review'].str.strip()\n",
    "print(\"\\nAfter Removing Leading and Trailing Whitespace:\")\n",
    "print(df[['Review_ID', 'Cleaned_Review']])"
   ]
  },
  {
   "cell_type": "code",
   "execution_count": null,
   "id": "89c5df69-75d2-467e-9741-65299ef57114",
   "metadata": {},
   "outputs": [],
   "source": [
    "# Step 4: Remove punctuation and special characters using regex\n",
    "df['Cleaned_Review'] = df['Cleaned_Review'].apply(lambda x: re.sub(r'[^\\w\\s]', '', x))\n",
    "print(\"After Removing Punctuation and Special Characters:\\n\")\n",
    "df"
   ]
  },
  {
   "cell_type": "code",
   "execution_count": null,
   "id": "b11f40f1-fa3d-4b04-9863-580e99ec5778",
   "metadata": {},
   "outputs": [],
   "source": [
    "# Step 5: Remove common stopwords (e.g., 'the', 'and', 'it') manually or with a predefined list\n",
    "stopwords = {'the', 'is', 'it', 'be', 'but', 'could','for'}\n",
    "df['Cleaned_Review'] = df['Cleaned_Review'].apply(\n",
    "    lambda x: ' '.join([word for word in x.split() if word not in stopwords])\n",
    ")\n",
    "print(\"\\nAfter Removing Stopwords:\")\n",
    "df"
   ]
  },
  {
   "cell_type": "code",
   "execution_count": null,
   "id": "f0bece65-7910-45f8-af37-8ff08a474e48",
   "metadata": {},
   "outputs": [],
   "source": [
    "# Step 5: Correct elongated words (e.g., 'goooood' -> 'good', 'suuuuure' -> 'sure') using regex\n",
    "df['Cleaned_Review'] = df['Cleaned_Review'].apply(lambda x: re.sub(r'(\\w)\\1{2,}', r'\\1\\1', x))\n",
    "print(\"\\nAfter Correcting Elongated Words:\\n\")\n",
    "print(df[['Review_ID', 'Cleaned_Review']])"
   ]
  },
  {
   "cell_type": "code",
   "execution_count": null,
   "id": "f8bcb698-81e7-4520-9808-24b8ee46f168",
   "metadata": {},
   "outputs": [],
   "source": [
    "# Step 6: Spelling Correction\n",
    "df['Cleaned_Review'] = df['Cleaned_Review'].apply(lambda x: str(TextBlob(x).correct()))\n",
    "print(\"\\nAfter Spelling Correction:\")\n",
    "print(df[['Review_ID', 'Cleaned_Review']])"
   ]
  },
  {
   "cell_type": "code",
   "execution_count": null,
   "id": "6b6fec36-1875-44b7-8c08-3ef36116d9b2",
   "metadata": {},
   "outputs": [],
   "source": [
    "# Step 6: Tokenize reviews to prepare for visualization\n",
    "df['Tokenized_Review'] = df['Cleaned_Review'].apply(lambda x: x.split())\n",
    "print(\"\\nTokenized Reviews:\")\n",
    "print(df[['Review_ID', 'Tokenized_Review']])"
   ]
  },
  {
   "cell_type": "code",
   "execution_count": null,
   "id": "f520dabf-f026-47d7-a3de-3e28b10af17f",
   "metadata": {},
   "outputs": [],
   "source": [
    "# Step 7: Flatten the list of all words for word frequency analysis\n",
    "all_words = [word for tokens in df['Tokenized_Review'] for word in tokens]\n",
    "word_counts = Counter(all_words)"
   ]
  },
  {
   "cell_type": "code",
   "execution_count": null,
   "id": "de645692-6877-4961-b35e-176e1df8ea59",
   "metadata": {},
   "outputs": [],
   "source": [
    "# Step 8: Plotting the frequency of top 10 words\n",
    "top_words = word_counts.most_common(10)\n",
    "words, frequencies = zip(*top_words)\n",
    "\n",
    "plt.figure(figsize=(10, 6))\n",
    "plt.bar(words, frequencies, color='skyblue')\n",
    "plt.xlabel('Words')\n",
    "plt.ylabel('Frequency')\n",
    "plt.title('Top 10 Most Frequent Words in Reviews')\n",
    "plt.show()"
   ]
  },
  {
   "cell_type": "code",
   "execution_count": null,
   "id": "059e23af-3a15-49c0-83f1-676692b4ef67",
   "metadata": {},
   "outputs": [],
   "source": []
  }
 ],
 "metadata": {
  "kernelspec": {
   "display_name": "Python 3 (ipykernel)",
   "language": "python",
   "name": "python3"
  },
  "language_info": {
   "codemirror_mode": {
    "name": "ipython",
    "version": 3
   },
   "file_extension": ".py",
   "mimetype": "text/x-python",
   "name": "python",
   "nbconvert_exporter": "python",
   "pygments_lexer": "ipython3",
   "version": "3.12.4"
  }
 },
 "nbformat": 4,
 "nbformat_minor": 5
}
